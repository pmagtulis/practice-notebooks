{
 "cells": [
  {
   "cell_type": "markdown",
   "metadata": {},
   "source": [
    "## Logging on\n",
    "\n",
    "Use Selenium to visit https://webapps1.chicago.gov/buildingrecords/ and accept the agreement.\n",
    "\n",
    "> Think about when you use `.find_element...` and when you use `.find_elementSSS...`"
   ]
  },
  {
   "cell_type": "code",
   "execution_count": 1,
   "metadata": {},
   "outputs": [
    {
     "name": "stderr",
     "output_type": "stream",
     "text": [
      "/Users/prinzmagtulis/.pyenv/versions/3.10.0/lib/python3.10/site-packages/pandas/compat/__init__.py:124: UserWarning: Could not import the lzma module. Your installed Python is incomplete. Attempting to use lzma compression will result in a RuntimeError.\n",
      "  warnings.warn(msg)\n"
     ]
    }
   ],
   "source": [
    "import pandas as pd\n",
    "\n",
    "import time\n",
    "\n",
    "from selenium import webdriver\n",
    "from selenium.webdriver.common.by import By\n",
    "from selenium.webdriver.support.ui import WebDriverWait\n",
    "from selenium.webdriver.support import expected_conditions as EC\n",
    "from selenium.webdriver.support.ui import Select\n",
    "\n",
    "from webdriver_manager.chrome import ChromeDriverManager"
   ]
  },
  {
   "cell_type": "code",
   "execution_count": 2,
   "metadata": {},
   "outputs": [
    {
     "name": "stderr",
     "output_type": "stream",
     "text": [
      "\n",
      "\n",
      "====== WebDriver manager ======\n",
      "Could not get version for google-chrome with the any command: /Applications/Google\\ Chrome.app/Contents/MacOS/Google\\ Chrome --version\n",
      "Current google-chrome version is UNKNOWN\n",
      "Get LATEST chromedriver version for UNKNOWN google-chrome\n",
      "Driver [/Users/prinzmagtulis/.wdm/drivers/chromedriver/mac64/96.0.4664.45/chromedriver] found in cache\n",
      "/var/folders/01/dz49lpcd4qq_yksvf114xzfc0000gn/T/ipykernel_8926/1503906442.py:1: DeprecationWarning: executable_path has been deprecated, please pass in a Service object\n",
      "  driver = webdriver.Chrome(ChromeDriverManager().install())\n"
     ]
    }
   ],
   "source": [
    "driver = webdriver.Chrome(ChromeDriverManager().install())"
   ]
  },
  {
   "cell_type": "code",
   "execution_count": 3,
   "metadata": {},
   "outputs": [],
   "source": [
    "driver.get(\"https://webapps1.chicago.gov/buildingrecords/\")"
   ]
  },
  {
   "cell_type": "code",
   "execution_count": 4,
   "metadata": {},
   "outputs": [],
   "source": [
    "driver.find_element(By.ID, \"rbnAgreement1\").click()"
   ]
  },
  {
   "cell_type": "code",
   "execution_count": 5,
   "metadata": {},
   "outputs": [],
   "source": [
    "driver.find_element(By.ID, \"submit\").click()"
   ]
  },
  {
   "cell_type": "code",
   "execution_count": null,
   "metadata": {},
   "outputs": [],
   "source": []
  },
  {
   "cell_type": "markdown",
   "metadata": {},
   "source": [
    "## Searching\n",
    "\n",
    "Search for **400 E 41ST ST**."
   ]
  },
  {
   "cell_type": "code",
   "execution_count": 6,
   "metadata": {},
   "outputs": [],
   "source": [
    "driver.find_element(By.XPATH, '//*[@id=\"fullAddress\"]').send_keys('404 E 41ST ST.')"
   ]
  },
  {
   "cell_type": "code",
   "execution_count": 7,
   "metadata": {},
   "outputs": [],
   "source": [
    "driver.find_element(By.ID, \"submit\").click()"
   ]
  },
  {
   "cell_type": "code",
   "execution_count": null,
   "metadata": {},
   "outputs": [],
   "source": []
  },
  {
   "cell_type": "markdown",
   "metadata": {},
   "source": [
    "## Saving tables with pandas\n",
    "\n",
    "Use pandas to save a CSV of all **permits** to `Permits - 400 E 41ST ST.csv`. Note that there are **different sections of the page**, not just one long permits table.\n",
    "\n",
    "> - *Tip: When using `.read_html`, try using `flavor='lxml'` and comparing the results to `flavor='html5lib'`. Which works better?*\n",
    "> - *Tip: You might need to install `html5lib` using `pip`. If so, you'll need to restart the notebook using **Kernel > Restart** before it will work.*"
   ]
  },
  {
   "cell_type": "code",
   "execution_count": 17,
   "metadata": {
    "scrolled": true
   },
   "outputs": [
    {
     "data": {
      "text/html": [
       "<div>\n",
       "<style scoped>\n",
       "    .dataframe tbody tr th:only-of-type {\n",
       "        vertical-align: middle;\n",
       "    }\n",
       "\n",
       "    .dataframe tbody tr th {\n",
       "        vertical-align: top;\n",
       "    }\n",
       "\n",
       "    .dataframe thead th {\n",
       "        text-align: right;\n",
       "    }\n",
       "</style>\n",
       "<table border=\"1\" class=\"dataframe\">\n",
       "  <thead>\n",
       "    <tr style=\"text-align: right;\">\n",
       "      <th></th>\n",
       "      <th>PERMIT #</th>\n",
       "      <th>DATE ISSUED</th>\n",
       "      <th>DESCRIPTION OF WORK</th>\n",
       "    </tr>\n",
       "  </thead>\n",
       "  <tbody>\n",
       "    <tr>\n",
       "      <th>0</th>\n",
       "      <td>100845718</td>\n",
       "      <td>10/11/2019</td>\n",
       "      <td>ERECT TWO SCAFFOLDS FROM 10/14/2019 TO 10/14/2...</td>\n",
       "    </tr>\n",
       "    <tr>\n",
       "      <th>1</th>\n",
       "      <td>100778302</td>\n",
       "      <td>08/17/2018</td>\n",
       "      <td>PERMIT EXPIRES ON 10/17/2018 Erection Starts: ...</td>\n",
       "    </tr>\n",
       "    <tr>\n",
       "      <th>2</th>\n",
       "      <td>100721255</td>\n",
       "      <td>08/24/2017</td>\n",
       "      <td>PERMIT EXPIRES ON 10/24/2017 ERECTION STARTS: ...</td>\n",
       "    </tr>\n",
       "    <tr>\n",
       "      <th>3</th>\n",
       "      <td>100693399</td>\n",
       "      <td>03/03/2017</td>\n",
       "      <td>INSTALLATION OF LOW VOLTAGE BURGLAR ALARM INTE...</td>\n",
       "    </tr>\n",
       "    <tr>\n",
       "      <th>4</th>\n",
       "      <td>100665436</td>\n",
       "      <td>08/24/2016</td>\n",
       "      <td>PERMIT EXPIRES ON 10/24/2016 ERECTION STARTS: ...</td>\n",
       "    </tr>\n",
       "    <tr>\n",
       "      <th>5</th>\n",
       "      <td>100610771</td>\n",
       "      <td>08/28/2015</td>\n",
       "      <td>PERMIT EXPIRES ON 10/28/2015 ERECTION STARTS: ...</td>\n",
       "    </tr>\n",
       "    <tr>\n",
       "      <th>6</th>\n",
       "      <td>100581991</td>\n",
       "      <td>02/18/2015</td>\n",
       "      <td>TRACE AND REPAIR BROKEN UNDERGROUND FEED TO EX...</td>\n",
       "    </tr>\n",
       "    <tr>\n",
       "      <th>7</th>\n",
       "      <td>100479194</td>\n",
       "      <td>04/16/2013</td>\n",
       "      <td>INTERNALLY LIT SIGN CABINET ON SOUTH ELEVATION</td>\n",
       "    </tr>\n",
       "    <tr>\n",
       "      <th>8</th>\n",
       "      <td>100385721</td>\n",
       "      <td>03/25/2011</td>\n",
       "      <td>RPACE CONCRETE SLAB WITH NEW AT GROUNGD FLOOR ...</td>\n",
       "    </tr>\n",
       "    <tr>\n",
       "      <th>9</th>\n",
       "      <td>100267298</td>\n",
       "      <td>12/04/2008</td>\n",
       "      <td>INTERIOR ALTERATIONS TO MEDICAL OFFICE SUITE 1...</td>\n",
       "    </tr>\n",
       "    <tr>\n",
       "      <th>10</th>\n",
       "      <td>100218969</td>\n",
       "      <td>01/08/2008</td>\n",
       "      <td>Revision to Permit. Removing walls at elevator...</td>\n",
       "    </tr>\n",
       "    <tr>\n",
       "      <th>11</th>\n",
       "      <td>100195892</td>\n",
       "      <td>11/01/2007</td>\n",
       "      <td>INTERIOR ALTERATIONS TO 1ST FLOOR TENANT SPACE...</td>\n",
       "    </tr>\n",
       "    <tr>\n",
       "      <th>12</th>\n",
       "      <td>100178678</td>\n",
       "      <td>05/16/2007</td>\n",
       "      <td>WIRE ALL LOW VOLTAGE TEMPERATURE CONTROLS ALL ...</td>\n",
       "    </tr>\n",
       "    <tr>\n",
       "      <th>13</th>\n",
       "      <td>100154767</td>\n",
       "      <td>12/21/2006</td>\n",
       "      <td>MODERNIZE FIVE (5) PASSENGER ELEVATORS AS PER ...</td>\n",
       "    </tr>\n",
       "    <tr>\n",
       "      <th>14</th>\n",
       "      <td>100153183</td>\n",
       "      <td>12/12/2006</td>\n",
       "      <td>Renovation/Alterations to 19-story Tower #2.</td>\n",
       "    </tr>\n",
       "    <tr>\n",
       "      <th>15</th>\n",
       "      <td>100153182</td>\n",
       "      <td>12/12/2006</td>\n",
       "      <td>Renovation/Alterations to 27-story Tower #1.</td>\n",
       "    </tr>\n",
       "    <tr>\n",
       "      <th>16</th>\n",
       "      <td>B20022113</td>\n",
       "      <td>04/25/2001</td>\n",
       "      <td>1N REPAIR,PATCH, 908' LG CON TERRACE WALL ( 3 ...</td>\n",
       "    </tr>\n",
       "    <tr>\n",
       "      <th>17</th>\n",
       "      <td>EL1566941</td>\n",
       "      <td>04/27/2000</td>\n",
       "      <td>INSTALL 3 HPS WALL FIXTURE ON BUILDING</td>\n",
       "    </tr>\n",
       "    <tr>\n",
       "      <th>18</th>\n",
       "      <td>B97033015</td>\n",
       "      <td>05/14/1997</td>\n",
       "      <td>THREE (3) PASSENGER ELEVATORS ADAMS DOOR RESTR...</td>\n",
       "    </tr>\n",
       "    <tr>\n",
       "      <th>19</th>\n",
       "      <td>EL9445368</td>\n",
       "      <td>02/14/1994</td>\n",
       "      <td>ADD 2-ADD'TL METER SOCKETS &amp; 2-BRKR PNLS</td>\n",
       "    </tr>\n",
       "    <tr>\n",
       "      <th>20</th>\n",
       "      <td>EL9443103</td>\n",
       "      <td>02/08/1994</td>\n",
       "      <td>INSTALL PHONE SYSTEM (MERLIN)</td>\n",
       "    </tr>\n",
       "    <tr>\n",
       "      <th>21</th>\n",
       "      <td>EL8874529</td>\n",
       "      <td>07/22/1992</td>\n",
       "      <td>INSTALL LOW VOLTAGE SECURITY SYSTEM</td>\n",
       "    </tr>\n",
       "    <tr>\n",
       "      <th>22</th>\n",
       "      <td>EL8770080</td>\n",
       "      <td>12/17/1991</td>\n",
       "      <td>100A SERVICE, 2-METER SOCKETS</td>\n",
       "    </tr>\n",
       "    <tr>\n",
       "      <th>23</th>\n",
       "      <td>EL7634958</td>\n",
       "      <td>02/19/1988</td>\n",
       "      <td>6-15 AMP 2-WIRE CKTS AND SIX (6) FIXTURS</td>\n",
       "    </tr>\n",
       "    <tr>\n",
       "      <th>24</th>\n",
       "      <td>EL7393792</td>\n",
       "      <td>05/05/1987</td>\n",
       "      <td>LOW VOLTAGE PHONE SYSTEM EQUITY 111</td>\n",
       "    </tr>\n",
       "    <tr>\n",
       "      <th>25</th>\n",
       "      <td>ES3148854</td>\n",
       "      <td>10/29/1984</td>\n",
       "      <td>NaN</td>\n",
       "    </tr>\n",
       "    <tr>\n",
       "      <th>26</th>\n",
       "      <td>EL6455110</td>\n",
       "      <td>07/26/1984</td>\n",
       "      <td>INSTALL 278 OUTLETS ON EXIST CIRC</td>\n",
       "    </tr>\n",
       "    <tr>\n",
       "      <th>27</th>\n",
       "      <td>EL6345593</td>\n",
       "      <td>04/05/1984</td>\n",
       "      <td>STANLEY MAGIC DOOR EQUIPT INSTALLATION</td>\n",
       "    </tr>\n",
       "    <tr>\n",
       "      <th>28</th>\n",
       "      <td>EL6242147</td>\n",
       "      <td>11/22/1983</td>\n",
       "      <td>2000A SERV, 400A SERV, 200A SERV,</td>\n",
       "    </tr>\n",
       "    <tr>\n",
       "      <th>29</th>\n",
       "      <td>EL6196217</td>\n",
       "      <td>10/03/1983</td>\n",
       "      <td>400A SERVICE</td>\n",
       "    </tr>\n",
       "    <tr>\n",
       "      <th>30</th>\n",
       "      <td>EL5912649</td>\n",
       "      <td>11/03/1982</td>\n",
       "      <td>ADD FEE TO PERMIT #5764111</td>\n",
       "    </tr>\n",
       "    <tr>\n",
       "      <th>31</th>\n",
       "      <td>EL5764118</td>\n",
       "      <td>05/24/1982</td>\n",
       "      <td>400A SERVICE</td>\n",
       "    </tr>\n",
       "  </tbody>\n",
       "</table>\n",
       "</div>"
      ],
      "text/plain": [
       "     PERMIT # DATE ISSUED                                DESCRIPTION OF WORK\n",
       "0   100845718  10/11/2019  ERECT TWO SCAFFOLDS FROM 10/14/2019 TO 10/14/2...\n",
       "1   100778302  08/17/2018  PERMIT EXPIRES ON 10/17/2018 Erection Starts: ...\n",
       "2   100721255  08/24/2017  PERMIT EXPIRES ON 10/24/2017 ERECTION STARTS: ...\n",
       "3   100693399  03/03/2017  INSTALLATION OF LOW VOLTAGE BURGLAR ALARM INTE...\n",
       "4   100665436  08/24/2016  PERMIT EXPIRES ON 10/24/2016 ERECTION STARTS: ...\n",
       "5   100610771  08/28/2015  PERMIT EXPIRES ON 10/28/2015 ERECTION STARTS: ...\n",
       "6   100581991  02/18/2015  TRACE AND REPAIR BROKEN UNDERGROUND FEED TO EX...\n",
       "7   100479194  04/16/2013     INTERNALLY LIT SIGN CABINET ON SOUTH ELEVATION\n",
       "8   100385721  03/25/2011  RPACE CONCRETE SLAB WITH NEW AT GROUNGD FLOOR ...\n",
       "9   100267298  12/04/2008  INTERIOR ALTERATIONS TO MEDICAL OFFICE SUITE 1...\n",
       "10  100218969  01/08/2008  Revision to Permit. Removing walls at elevator...\n",
       "11  100195892  11/01/2007  INTERIOR ALTERATIONS TO 1ST FLOOR TENANT SPACE...\n",
       "12  100178678  05/16/2007  WIRE ALL LOW VOLTAGE TEMPERATURE CONTROLS ALL ...\n",
       "13  100154767  12/21/2006  MODERNIZE FIVE (5) PASSENGER ELEVATORS AS PER ...\n",
       "14  100153183  12/12/2006       Renovation/Alterations to 19-story Tower #2.\n",
       "15  100153182  12/12/2006       Renovation/Alterations to 27-story Tower #1.\n",
       "16  B20022113  04/25/2001  1N REPAIR,PATCH, 908' LG CON TERRACE WALL ( 3 ...\n",
       "17  EL1566941  04/27/2000             INSTALL 3 HPS WALL FIXTURE ON BUILDING\n",
       "18  B97033015  05/14/1997  THREE (3) PASSENGER ELEVATORS ADAMS DOOR RESTR...\n",
       "19  EL9445368  02/14/1994           ADD 2-ADD'TL METER SOCKETS & 2-BRKR PNLS\n",
       "20  EL9443103  02/08/1994                      INSTALL PHONE SYSTEM (MERLIN)\n",
       "21  EL8874529  07/22/1992                INSTALL LOW VOLTAGE SECURITY SYSTEM\n",
       "22  EL8770080  12/17/1991                      100A SERVICE, 2-METER SOCKETS\n",
       "23  EL7634958  02/19/1988           6-15 AMP 2-WIRE CKTS AND SIX (6) FIXTURS\n",
       "24  EL7393792  05/05/1987                LOW VOLTAGE PHONE SYSTEM EQUITY 111\n",
       "25  ES3148854  10/29/1984                                                NaN\n",
       "26  EL6455110  07/26/1984                  INSTALL 278 OUTLETS ON EXIST CIRC\n",
       "27  EL6345593  04/05/1984             STANLEY MAGIC DOOR EQUIPT INSTALLATION\n",
       "28  EL6242147  11/22/1983                  2000A SERV, 400A SERV, 200A SERV,\n",
       "29  EL6196217  10/03/1983                                       400A SERVICE\n",
       "30  EL5912649  11/03/1982                         ADD FEE TO PERMIT #5764111\n",
       "31  EL5764118  05/24/1982                                       400A SERVICE"
      ]
     },
     "execution_count": 17,
     "metadata": {},
     "output_type": "execute_result"
    }
   ],
   "source": [
    "table = driver.find_element(By.XPATH, \"/html/body/div/div[4]\")\n",
    "\n",
    "pd.read_html(table.get_attribute('outerHTML'), flavor='html5lib')[0]\n",
    "#html5lib works after installation. lxml doesn't."
   ]
  },
  {
   "cell_type": "code",
   "execution_count": null,
   "metadata": {},
   "outputs": [],
   "source": [
    "dataframes=[]\n",
    "    EC.presence_of_element_located((By.XPATH, \"/html/body/div/div[4]\"))\n",
    "    table = driver.find_element(By.ID, \"resultstable_inspections\")\n",
    "    df = pd.read_html(table.get_attribute('outerHTML'))[0]\n",
    "    dataframes.append(df)\n",
    "dataframes"
   ]
  },
  {
   "cell_type": "code",
   "execution_count": null,
   "metadata": {},
   "outputs": [],
   "source": [
    "df = pd.concat(dataframes, ignore_index=True)\n",
    "df"
   ]
  },
  {
   "cell_type": "markdown",
   "metadata": {},
   "source": [
    "## Saving tables the long way\n",
    "\n",
    "Save a CSV of all DOB inspections to `Inspections - 400 E 41ST ST.csv`.\n",
    "\n",
    "This is more complicated than the last one becuse **we also need to save the URL to the inspection** (see how the inspection number is a link?). As a result, you won't be able to use pandas! Instead, you'll need to use a loop and create a list of dictionaries.\n",
    "\n",
    "You can use Selenium or you can feed the source to BeautifulSoup. You should have approximately 160 rows.\n",
    "\n",
    "You'll probably need to find the table first, then the rows inside, then the cells inside of each row. You'll probably use lots of list indexing. I might recommend XPath for finding the table.\n",
    "\n",
    "*Tip: If you get a \"list index out of range\" error, it's probably due to an issue involving `thead` vs `tbody` elements. What are they? What are they for? What's in them? There are a few ways to troubleshoot it.*"
   ]
  },
  {
   "cell_type": "code",
   "execution_count": null,
   "metadata": {},
   "outputs": [],
   "source": []
  },
  {
   "cell_type": "code",
   "execution_count": null,
   "metadata": {},
   "outputs": [],
   "source": []
  },
  {
   "cell_type": "code",
   "execution_count": null,
   "metadata": {},
   "outputs": [],
   "source": []
  },
  {
   "cell_type": "code",
   "execution_count": null,
   "metadata": {},
   "outputs": [],
   "source": []
  },
  {
   "cell_type": "markdown",
   "metadata": {},
   "source": [
    "### Bonus preview of Wednesday's content\n",
    "\n",
    "**You prrrrrobably shouldn't do this one unless you want a real challenge.**\n",
    "\n",
    "If you click the inspection number, it'll open up a new window that shows you details of the violations from that visit. Count the number of violations for each visit and save it in a new column called **num_violations**.\n",
    "\n",
    "Save this file as `Inspections - 400 E 41ST ST - with counts.csv`.\n",
    "\n",
    "Since clicking the link opens in a new window, we have to say \"Hey Selenium, pay attention to that new window!\" We do that with `driver.switch_to.window(driver.window_handles[-1])` (each window gets a `window_handle`, and we're just asking the driver to switch to the last one.). A rough sketch of what your code will look like is here:\n",
    "\n",
    "```python\n",
    "# Click the link that opens the new window\n",
    "\n",
    "# Switch to the new window/tab\n",
    "driver.switch_to.window(driver.window_handles[-1])\n",
    "\n",
    "# Do your scraping in here\n",
    "\n",
    "# Close the new window/tab\n",
    "driver.close()\n",
    "\n",
    "# Switch back to the original window/tab\n",
    "driver.switch_to.window(driver.window_handles[0])\n",
    "```\n",
    "\n",
    "You'll want to play around with them individually before you try it with the whole set - the ones that pass are very different pages than the ones with violations! There are a few ways to get the number of violations, some easier than others."
   ]
  },
  {
   "cell_type": "code",
   "execution_count": null,
   "metadata": {},
   "outputs": [],
   "source": []
  },
  {
   "cell_type": "code",
   "execution_count": null,
   "metadata": {},
   "outputs": [],
   "source": []
  },
  {
   "cell_type": "code",
   "execution_count": null,
   "metadata": {},
   "outputs": [],
   "source": []
  },
  {
   "cell_type": "code",
   "execution_count": null,
   "metadata": {},
   "outputs": [],
   "source": []
  },
  {
   "cell_type": "code",
   "execution_count": null,
   "metadata": {},
   "outputs": [],
   "source": []
  },
  {
   "cell_type": "code",
   "execution_count": null,
   "metadata": {},
   "outputs": [],
   "source": []
  }
 ],
 "metadata": {
  "kernelspec": {
   "display_name": "Python 3 (ipykernel)",
   "language": "python",
   "name": "python3"
  },
  "language_info": {
   "codemirror_mode": {
    "name": "ipython",
    "version": 3
   },
   "file_extension": ".py",
   "mimetype": "text/x-python",
   "name": "python",
   "nbconvert_exporter": "python",
   "pygments_lexer": "ipython3",
   "version": "3.10.0"
  }
 },
 "nbformat": 4,
 "nbformat_minor": 4
}
